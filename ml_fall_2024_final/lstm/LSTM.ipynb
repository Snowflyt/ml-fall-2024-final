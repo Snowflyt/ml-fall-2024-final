{
 "cells": [
  {
   "cell_type": "markdown",
   "id": "218fd134",
   "metadata": {},
   "source": [
    "示例文件，代码逻辑与 `lstm/main.py` 基本相同，只是以 Jupyter Notebook 形式编写。\n"
   ]
  },
  {
   "cell_type": "code",
   "execution_count": 1,
   "id": "8f1f452087712f78",
   "metadata": {
    "ExecuteTime": {
     "end_time": "2025-01-19T03:51:39.225777Z",
     "start_time": "2025-01-19T03:51:39.222784Z"
    }
   },
   "outputs": [],
   "source": [
    "from typing import Literal\n",
    "\n",
    "import matplotlib.pyplot as plt\n",
    "import numpy as np\n",
    "import torch\n",
    "from torch import nn, optim\n",
    "from torch.utils.data import DataLoader, TensorDataset\n",
    "\n",
    "from ml_fall_2024_final.constants import OUTPUT_WINDOW_LONG, OUTPUT_WINDOW_SHORT\n",
    "from ml_fall_2024_final.dataset import read_test_data, read_train_data\n",
    "from ml_fall_2024_final.lstm.model import LSTMModelWithEmbedding\n",
    "from ml_fall_2024_final.lstm.preprocess import preprocess_data\n",
    "from ml_fall_2024_final.lstm.trainer import train_model"
   ]
  },
  {
   "cell_type": "code",
   "execution_count": 2,
   "id": "6ccf39ce",
   "metadata": {},
   "outputs": [],
   "source": [
    "OUTPUT_WINDOW: Literal[\"short\", \"long\"] = \"long\"\n",
    "OUTPUT_WINDOW_LENGTH = OUTPUT_WINDOW_SHORT if OUTPUT_WINDOW == \"short\" else OUTPUT_WINDOW_LONG"
   ]
  },
  {
   "cell_type": "code",
   "execution_count": 3,
   "id": "516fe57e56476cee",
   "metadata": {
    "ExecuteTime": {
     "end_time": "2025-01-19T03:51:52.106147Z",
     "start_time": "2025-01-19T03:51:39.283285Z"
    }
   },
   "outputs": [],
   "source": [
    "# read csv\n",
    "data = read_train_data().dropna().drop(columns=[\"dteday\"])\n",
    "\n",
    "# 指定离散型变量列\n",
    "discrete_cols = [\"season\", \"yr\", \"mnth\", \"hr\", \"holiday\", \"weekday\", \"workingday\", \"weathersit\"]\n",
    "\n",
    "X_cont_train, X_cat_train, y_train = preprocess_data(\n",
    "    data=data,\n",
    "    target_col=\"cnt\",\n",
    "    discrete_cols=discrete_cols,\n",
    "    past_steps=OUTPUT_WINDOW_LENGTH,\n",
    "    future_steps=OUTPUT_WINDOW_LENGTH,\n",
    ")\n",
    "\n",
    "test_data = read_test_data().dropna().drop(columns=[\"dteday\"])\n",
    "\n",
    "X_cont_test, X_cat_test, y_test = preprocess_data(\n",
    "    data=test_data,\n",
    "    target_col=\"cnt\",\n",
    "    discrete_cols=discrete_cols,\n",
    "    past_steps=OUTPUT_WINDOW_LENGTH,\n",
    "    future_steps=OUTPUT_WINDOW_LENGTH,\n",
    ")"
   ]
  },
  {
   "cell_type": "code",
   "execution_count": 4,
   "id": "f98566fbe583ab30",
   "metadata": {
    "ExecuteTime": {
     "end_time": "2025-01-19T03:51:52.219975Z",
     "start_time": "2025-01-19T03:51:52.151070Z"
    }
   },
   "outputs": [],
   "source": [
    "# 转换为 Tensor\n",
    "X_cont_train_tensor = torch.tensor(X_cont_train, dtype=torch.float32)\n",
    "X_cat_train_tensor = torch.tensor(X_cat_train, dtype=torch.long)\n",
    "y_train_tensor = torch.tensor(y_train, dtype=torch.float32)\n",
    "\n",
    "X_cont_test_tensor = torch.tensor(X_cont_test, dtype=torch.float32)\n",
    "X_cat_test_tensor = torch.tensor(X_cat_test, dtype=torch.long)\n",
    "y_test_tensor = torch.tensor(y_test, dtype=torch.float32)\n",
    "\n",
    "# 创建 DataLoader\n",
    "train_dataset = TensorDataset(X_cont_train_tensor, X_cat_train_tensor, y_train_tensor)\n",
    "test_dataset = TensorDataset(X_cont_test_tensor, X_cat_test_tensor, y_test_tensor)\n",
    "\n",
    "train_loader = DataLoader(train_dataset, batch_size=1, shuffle=False)\n",
    "test_loader = DataLoader(test_dataset)"
   ]
  },
  {
   "cell_type": "code",
   "execution_count": 5,
   "id": "38f875f719956efb",
   "metadata": {
    "ExecuteTime": {
     "end_time": "2025-01-19T03:51:52.347818Z",
     "start_time": "2025-01-19T03:51:52.341429Z"
    }
   },
   "outputs": [],
   "source": [
    "# 初始化模型\n",
    "input_dim = X_cont_train.shape[2]  # 连续特征数\n",
    "hidden_dim = 64\n",
    "num_layers = 3\n",
    "output_dim = OUTPUT_WINDOW_LENGTH\n",
    "embedding_dims = [(4, 2), (3, 2)]  # 示例: 嵌入尺寸 (类别数量, 嵌入维度)\n",
    "\n",
    "model = LSTMModelWithEmbedding(input_dim, embedding_dims, hidden_dim, num_layers, output_dim)"
   ]
  },
  {
   "cell_type": "code",
   "execution_count": 6,
   "id": "2df55b6bca21a5f7",
   "metadata": {
    "ExecuteTime": {
     "end_time": "2025-01-19T03:51:52.410393Z",
     "start_time": "2025-01-19T03:51:52.406072Z"
    }
   },
   "outputs": [],
   "source": [
    "# 损失函数和优化器\n",
    "criterion = nn.MSELoss()\n",
    "criterion_mae = nn.L1Loss()\n",
    "optimizer = optim.Adam(model.parameters(), lr=0.001)"
   ]
  },
  {
   "cell_type": "code",
   "execution_count": null,
   "id": "724914ceddb1a67c",
   "metadata": {
    "ExecuteTime": {
     "end_time": "2025-01-19T04:38:03.302715Z",
     "start_time": "2025-01-19T03:51:52.461467Z"
    }
   },
   "outputs": [],
   "source": [
    "# 训练模型\n",
    "train_model(model, train_loader, criterion, optimizer, epochs=20)"
   ]
  },
  {
   "cell_type": "code",
   "execution_count": null,
   "id": "257ca41c010508e0",
   "metadata": {
    "ExecuteTime": {
     "end_time": "2025-01-19T04:38:09.776790Z",
     "start_time": "2025-01-19T04:38:03.608109Z"
    }
   },
   "outputs": [],
   "source": [
    "# 测试模型\n",
    "model.eval()\n",
    "test_loss = 0.0\n",
    "predicts = []\n",
    "real = []\n",
    "mae_list = []\n",
    "mse_list = []\n",
    "with torch.no_grad():\n",
    "    for X_cont_batch, X_cat_batch, y_batch in test_loader:\n",
    "        outputs = model(X_cont_batch, X_cat_batch)\n",
    "        predicts.append(outputs)\n",
    "        real.append(y_batch)\n",
    "        loss = criterion(outputs, y_batch)\n",
    "        for i in range(len(y_batch)):\n",
    "            mae_list.append(criterion_mae(outputs[i], y_batch[i]).item())\n",
    "            mse_list.append(criterion(outputs[i], y_batch[i]).item())\n",
    "        test_loss += loss.item()\n",
    "print(f\"Test Loss: {test_loss / len(test_loader)}\")"
   ]
  },
  {
   "cell_type": "code",
   "execution_count": null,
   "id": "a48fc61befc57cfb",
   "metadata": {
    "ExecuteTime": {
     "end_time": "2025-01-19T04:45:56.365983Z",
     "start_time": "2025-01-19T04:45:56.248683Z"
    }
   },
   "outputs": [],
   "source": [
    "selected_mae = []\n",
    "selected_mse = []\n",
    "for _ in range(5):\n",
    "    idx = np.random.randint(0, len(predicts))\n",
    "    selected_mae.append(mae_list[idx])\n",
    "    selected_mse.append(mse_list[idx])\n",
    "mae_std = np.std(selected_mae)\n",
    "mse_std = np.std(selected_mse)\n",
    "mae_mean = np.mean(selected_mae)\n",
    "mse_mean = np.mean(selected_mse)\n",
    "print(f\"MAE Mean: {mae_mean}, MAE Std: {mae_std}\")\n",
    "print(f\"MSE Mean: {mse_mean}, MSE Std: {mse_std}\")"
   ]
  },
  {
   "cell_type": "code",
   "execution_count": null,
   "id": "53e4bfd5",
   "metadata": {},
   "outputs": [],
   "source": [
    "data_x = list(range(OUTPUT_WINDOW_LENGTH))\n",
    "data_y = outputs[-1].numpy()\n",
    "plt.plot(data_x, data_y, label=\"LSTM\")\n",
    "data_y = y_batch[-1].numpy()\n",
    "plt.plot(data_x, data_y, label=\"Ground Truth\")\n",
    "# left up corner\n",
    "plt.legend(loc=\"upper left\")\n",
    "# background color white\n",
    "plt.gca().set_facecolor(\"white\")\n",
    "plt.show()"
   ]
  }
 ],
 "metadata": {
  "kernelspec": {
   "display_name": ".venv",
   "language": "python",
   "name": "python3"
  },
  "language_info": {
   "codemirror_mode": {
    "name": "ipython",
    "version": 3
   },
   "file_extension": ".py",
   "mimetype": "text/x-python",
   "name": "python",
   "nbconvert_exporter": "python",
   "pygments_lexer": "ipython3",
   "version": "3.12.8"
  }
 },
 "nbformat": 4,
 "nbformat_minor": 5
}
